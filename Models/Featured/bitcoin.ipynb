{
 "cells": [
  {
   "cell_type": "code",
   "execution_count": 2,
   "metadata": {},
   "outputs": [],
   "source": [
    "import numpy as np\n",
    "import pandas as pd"
   ]
  },
  {
   "cell_type": "code",
   "execution_count": 3,
   "metadata": {},
   "outputs": [],
   "source": [
    "df = pd.read_csv(\"Bitcoin.csv\")"
   ]
  },
  {
   "cell_type": "code",
   "execution_count": 4,
   "metadata": {},
   "outputs": [
    {
     "data": {
      "text/html": [
       "<div>\n",
       "<style scoped>\n",
       "    .dataframe tbody tr th:only-of-type {\n",
       "        vertical-align: middle;\n",
       "    }\n",
       "\n",
       "    .dataframe tbody tr th {\n",
       "        vertical-align: top;\n",
       "    }\n",
       "\n",
       "    .dataframe thead th {\n",
       "        text-align: right;\n",
       "    }\n",
       "</style>\n",
       "<table border=\"1\" class=\"dataframe\">\n",
       "  <thead>\n",
       "    <tr style=\"text-align: right;\">\n",
       "      <th></th>\n",
       "      <th>Date</th>\n",
       "      <th>Open</th>\n",
       "      <th>High</th>\n",
       "      <th>Low</th>\n",
       "      <th>Close</th>\n",
       "      <th>Volume</th>\n",
       "      <th>Market Cap</th>\n",
       "    </tr>\n",
       "  </thead>\n",
       "  <tbody>\n",
       "    <tr>\n",
       "      <th>0</th>\n",
       "      <td>14-06-2021</td>\n",
       "      <td>39016.970178</td>\n",
       "      <td>40978.364477</td>\n",
       "      <td>38757.284122</td>\n",
       "      <td>40536.068967</td>\n",
       "      <td>4.851313e+10</td>\n",
       "      <td>7.594427e+11</td>\n",
       "    </tr>\n",
       "    <tr>\n",
       "      <th>1</th>\n",
       "      <td>13-06-2021</td>\n",
       "      <td>35555.790140</td>\n",
       "      <td>39322.780212</td>\n",
       "      <td>34864.109940</td>\n",
       "      <td>39097.860897</td>\n",
       "      <td>4.066911e+10</td>\n",
       "      <td>7.324657e+11</td>\n",
       "    </tr>\n",
       "    <tr>\n",
       "      <th>2</th>\n",
       "      <td>12-06-2021</td>\n",
       "      <td>37340.142844</td>\n",
       "      <td>37408.925595</td>\n",
       "      <td>34728.190101</td>\n",
       "      <td>35552.517148</td>\n",
       "      <td>3.792423e+10</td>\n",
       "      <td>6.660182e+11</td>\n",
       "    </tr>\n",
       "  </tbody>\n",
       "</table>\n",
       "</div>"
      ],
      "text/plain": [
       "         Date          Open          High           Low         Close  \\\n",
       "0  14-06-2021  39016.970178  40978.364477  38757.284122  40536.068967   \n",
       "1  13-06-2021  35555.790140  39322.780212  34864.109940  39097.860897   \n",
       "2  12-06-2021  37340.142844  37408.925595  34728.190101  35552.517148   \n",
       "\n",
       "         Volume    Market Cap  \n",
       "0  4.851313e+10  7.594427e+11  \n",
       "1  4.066911e+10  7.324657e+11  \n",
       "2  3.792423e+10  6.660182e+11  "
      ]
     },
     "execution_count": 4,
     "metadata": {},
     "output_type": "execute_result"
    }
   ],
   "source": [
    "df.head(3)"
   ]
  },
  {
   "cell_type": "code",
   "execution_count": 5,
   "metadata": {},
   "outputs": [
    {
     "data": {
      "text/plain": [
       "dtype('float64')"
      ]
     },
     "execution_count": 5,
     "metadata": {},
     "output_type": "execute_result"
    }
   ],
   "source": [
    "df.Volume.dtype"
   ]
  },
  {
   "cell_type": "code",
   "execution_count": 6,
   "metadata": {},
   "outputs": [
    {
     "name": "stdout",
     "output_type": "stream",
     "text": [
      "<class 'pandas.core.frame.DataFrame'>\n",
      "RangeIndex: 2970 entries, 0 to 2969\n",
      "Data columns (total 7 columns):\n",
      " #   Column      Non-Null Count  Dtype  \n",
      "---  ------      --------------  -----  \n",
      " 0   Date        2970 non-null   object \n",
      " 1   Open        2970 non-null   float64\n",
      " 2   High        2970 non-null   float64\n",
      " 3   Low         2970 non-null   float64\n",
      " 4   Close       2970 non-null   float64\n",
      " 5   Volume      2970 non-null   float64\n",
      " 6   Market Cap  2970 non-null   float64\n",
      "dtypes: float64(6), object(1)\n",
      "memory usage: 162.5+ KB\n"
     ]
    }
   ],
   "source": [
    "df.info()"
   ]
  },
  {
   "cell_type": "code",
   "execution_count": 7,
   "metadata": {},
   "outputs": [
    {
     "data": {
      "text/plain": [
       "Date          0\n",
       "Open          0\n",
       "High          0\n",
       "Low           0\n",
       "Close         0\n",
       "Volume        0\n",
       "Market Cap    0\n",
       "dtype: int64"
      ]
     },
     "execution_count": 7,
     "metadata": {},
     "output_type": "execute_result"
    }
   ],
   "source": [
    "df.isnull().sum()"
   ]
  },
  {
   "cell_type": "code",
   "execution_count": 8,
   "metadata": {},
   "outputs": [
    {
     "data": {
      "text/html": [
       "<div>\n",
       "<style scoped>\n",
       "    .dataframe tbody tr th:only-of-type {\n",
       "        vertical-align: middle;\n",
       "    }\n",
       "\n",
       "    .dataframe tbody tr th {\n",
       "        vertical-align: top;\n",
       "    }\n",
       "\n",
       "    .dataframe thead th {\n",
       "        text-align: right;\n",
       "    }\n",
       "</style>\n",
       "<table border=\"1\" class=\"dataframe\">\n",
       "  <thead>\n",
       "    <tr style=\"text-align: right;\">\n",
       "      <th></th>\n",
       "      <th>Open</th>\n",
       "      <th>High</th>\n",
       "      <th>Low</th>\n",
       "      <th>Close</th>\n",
       "      <th>Volume</th>\n",
       "      <th>Market Cap</th>\n",
       "    </tr>\n",
       "  </thead>\n",
       "  <tbody>\n",
       "    <tr>\n",
       "      <th>count</th>\n",
       "      <td>2970.000000</td>\n",
       "      <td>2970.000000</td>\n",
       "      <td>2970.000000</td>\n",
       "      <td>2970.000000</td>\n",
       "      <td>2.970000e+03</td>\n",
       "      <td>2.970000e+03</td>\n",
       "    </tr>\n",
       "    <tr>\n",
       "      <th>mean</th>\n",
       "      <td>6487.757054</td>\n",
       "      <td>6675.516682</td>\n",
       "      <td>6282.989221</td>\n",
       "      <td>6501.084885</td>\n",
       "      <td>1.071007e+10</td>\n",
       "      <td>1.169012e+11</td>\n",
       "    </tr>\n",
       "    <tr>\n",
       "      <th>std</th>\n",
       "      <td>11058.185226</td>\n",
       "      <td>11409.466174</td>\n",
       "      <td>10651.307992</td>\n",
       "      <td>11074.664345</td>\n",
       "      <td>1.881033e+10</td>\n",
       "      <td>2.066385e+11</td>\n",
       "    </tr>\n",
       "    <tr>\n",
       "      <th>min</th>\n",
       "      <td>68.504997</td>\n",
       "      <td>74.561096</td>\n",
       "      <td>65.526001</td>\n",
       "      <td>68.431000</td>\n",
       "      <td>0.000000e+00</td>\n",
       "      <td>7.784112e+08</td>\n",
       "    </tr>\n",
       "    <tr>\n",
       "      <th>25%</th>\n",
       "      <td>427.883995</td>\n",
       "      <td>434.684250</td>\n",
       "      <td>420.753258</td>\n",
       "      <td>428.683754</td>\n",
       "      <td>2.999112e+07</td>\n",
       "      <td>6.280513e+09</td>\n",
       "    </tr>\n",
       "    <tr>\n",
       "      <th>50%</th>\n",
       "      <td>1988.109985</td>\n",
       "      <td>2101.905029</td>\n",
       "      <td>1911.434998</td>\n",
       "      <td>2018.864990</td>\n",
       "      <td>8.604240e+08</td>\n",
       "      <td>3.311395e+10</td>\n",
       "    </tr>\n",
       "    <tr>\n",
       "      <th>75%</th>\n",
       "      <td>8368.639871</td>\n",
       "      <td>8599.800245</td>\n",
       "      <td>8183.189230</td>\n",
       "      <td>8373.222355</td>\n",
       "      <td>1.549157e+10</td>\n",
       "      <td>1.481718e+11</td>\n",
       "    </tr>\n",
       "    <tr>\n",
       "      <th>max</th>\n",
       "      <td>63523.754869</td>\n",
       "      <td>64863.098908</td>\n",
       "      <td>62208.964366</td>\n",
       "      <td>63503.457930</td>\n",
       "      <td>3.509679e+11</td>\n",
       "      <td>1.186364e+12</td>\n",
       "    </tr>\n",
       "  </tbody>\n",
       "</table>\n",
       "</div>"
      ],
      "text/plain": [
       "               Open          High           Low         Close        Volume  \\\n",
       "count   2970.000000   2970.000000   2970.000000   2970.000000  2.970000e+03   \n",
       "mean    6487.757054   6675.516682   6282.989221   6501.084885  1.071007e+10   \n",
       "std    11058.185226  11409.466174  10651.307992  11074.664345  1.881033e+10   \n",
       "min       68.504997     74.561096     65.526001     68.431000  0.000000e+00   \n",
       "25%      427.883995    434.684250    420.753258    428.683754  2.999112e+07   \n",
       "50%     1988.109985   2101.905029   1911.434998   2018.864990  8.604240e+08   \n",
       "75%     8368.639871   8599.800245   8183.189230   8373.222355  1.549157e+10   \n",
       "max    63523.754869  64863.098908  62208.964366  63503.457930  3.509679e+11   \n",
       "\n",
       "         Market Cap  \n",
       "count  2.970000e+03  \n",
       "mean   1.169012e+11  \n",
       "std    2.066385e+11  \n",
       "min    7.784112e+08  \n",
       "25%    6.280513e+09  \n",
       "50%    3.311395e+10  \n",
       "75%    1.481718e+11  \n",
       "max    1.186364e+12  "
      ]
     },
     "execution_count": 8,
     "metadata": {},
     "output_type": "execute_result"
    }
   ],
   "source": [
    "df.describe()"
   ]
  },
  {
   "cell_type": "code",
   "execution_count": 9,
   "metadata": {},
   "outputs": [],
   "source": [
    "from sklearn.preprocessing import LabelEncoder, StandardScaler\n",
    "from sklearn.model_selection import train_test_split\n",
    "\n",
    "from sklearn.linear_model import LogisticRegression\n",
    "from sklearn.svm import SVC\n",
    "from sklearn.neural_network import MLPClassifier\n",
    "from sklearn.tree import DecisionTreeClassifier\n",
    "from sklearn.ensemble import AdaBoostClassifier, BaggingClassifier, GradientBoostingClassifier, RandomForestClassifier"
   ]
  },
  {
   "cell_type": "code",
   "execution_count": 10,
   "metadata": {},
   "outputs": [],
   "source": [
    "df.drop(['Date'],axis=1,inplace=True)"
   ]
  },
  {
   "cell_type": "code",
   "execution_count": 11,
   "metadata": {
    "scrolled": false
   },
   "outputs": [
    {
     "data": {
      "text/html": [
       "<div>\n",
       "<style scoped>\n",
       "    .dataframe tbody tr th:only-of-type {\n",
       "        vertical-align: middle;\n",
       "    }\n",
       "\n",
       "    .dataframe tbody tr th {\n",
       "        vertical-align: top;\n",
       "    }\n",
       "\n",
       "    .dataframe thead th {\n",
       "        text-align: right;\n",
       "    }\n",
       "</style>\n",
       "<table border=\"1\" class=\"dataframe\">\n",
       "  <thead>\n",
       "    <tr style=\"text-align: right;\">\n",
       "      <th></th>\n",
       "      <th>Open</th>\n",
       "      <th>High</th>\n",
       "      <th>Low</th>\n",
       "      <th>Close</th>\n",
       "      <th>Volume</th>\n",
       "      <th>Market Cap</th>\n",
       "    </tr>\n",
       "  </thead>\n",
       "  <tbody>\n",
       "    <tr>\n",
       "      <th>0</th>\n",
       "      <td>39016.970178</td>\n",
       "      <td>40978.364477</td>\n",
       "      <td>38757.284122</td>\n",
       "      <td>40536.068967</td>\n",
       "      <td>4.851313e+10</td>\n",
       "      <td>7.594427e+11</td>\n",
       "    </tr>\n",
       "    <tr>\n",
       "      <th>1</th>\n",
       "      <td>35555.790140</td>\n",
       "      <td>39322.780212</td>\n",
       "      <td>34864.109940</td>\n",
       "      <td>39097.860897</td>\n",
       "      <td>4.066911e+10</td>\n",
       "      <td>7.324657e+11</td>\n",
       "    </tr>\n",
       "    <tr>\n",
       "      <th>2</th>\n",
       "      <td>37340.142844</td>\n",
       "      <td>37408.925595</td>\n",
       "      <td>34728.190101</td>\n",
       "      <td>35552.517148</td>\n",
       "      <td>3.792423e+10</td>\n",
       "      <td>6.660182e+11</td>\n",
       "    </tr>\n",
       "    <tr>\n",
       "      <th>3</th>\n",
       "      <td>36697.031293</td>\n",
       "      <td>37608.694293</td>\n",
       "      <td>36044.449911</td>\n",
       "      <td>37334.399526</td>\n",
       "      <td>3.869974e+10</td>\n",
       "      <td>6.993687e+11</td>\n",
       "    </tr>\n",
       "    <tr>\n",
       "      <th>4</th>\n",
       "      <td>37389.515651</td>\n",
       "      <td>38334.325443</td>\n",
       "      <td>35847.593641</td>\n",
       "      <td>36702.599375</td>\n",
       "      <td>4.357603e+10</td>\n",
       "      <td>6.875094e+11</td>\n",
       "    </tr>\n",
       "  </tbody>\n",
       "</table>\n",
       "</div>"
      ],
      "text/plain": [
       "           Open          High           Low         Close        Volume  \\\n",
       "0  39016.970178  40978.364477  38757.284122  40536.068967  4.851313e+10   \n",
       "1  35555.790140  39322.780212  34864.109940  39097.860897  4.066911e+10   \n",
       "2  37340.142844  37408.925595  34728.190101  35552.517148  3.792423e+10   \n",
       "3  36697.031293  37608.694293  36044.449911  37334.399526  3.869974e+10   \n",
       "4  37389.515651  38334.325443  35847.593641  36702.599375  4.357603e+10   \n",
       "\n",
       "     Market Cap  \n",
       "0  7.594427e+11  \n",
       "1  7.324657e+11  \n",
       "2  6.660182e+11  \n",
       "3  6.993687e+11  \n",
       "4  6.875094e+11  "
      ]
     },
     "execution_count": 11,
     "metadata": {},
     "output_type": "execute_result"
    }
   ],
   "source": [
    "df.head()"
   ]
  },
  {
   "cell_type": "code",
   "execution_count": 12,
   "metadata": {},
   "outputs": [],
   "source": [
    "import matplotlib.pyplot as plt\n",
    "  "
   ]
  },
  {
   "cell_type": "code",
   "execution_count": 13,
   "metadata": {},
   "outputs": [
    {
     "data": {
      "image/png": "[encoded data removed]",
      "text/plain": [
       "<Figure size 432x288 with 1 Axes>"
      ]
     },
     "metadata": {
      "needs_background": "light"
     },
     "output_type": "display_data"
    }
   ],
   "source": [
    "plt.scatter(df['High'], df['Market Cap'], color='red')\n",
    "plt.grid(True)\n",
    "plt.show()"
   ]
  },
  {
   "cell_type": "code",
   "execution_count": 14,
   "metadata": {},
   "outputs": [
    {
     "data": {
      "image/png": "[encoded data removed]",
      "text/plain": [
       "<Figure size 432x288 with 1 Axes>"
      ]
     },
     "metadata": {
      "needs_background": "light"
     },
     "output_type": "display_data"
    }
   ],
   "source": [
    "plt.scatter(df['Open'], df['Market Cap'], color='green')\n",
    "plt.grid(True)\n",
    "plt.show()"
   ]
  },
  {
   "cell_type": "code",
   "execution_count": 15,
   "metadata": {},
   "outputs": [
    {
     "data": {
      "image/png": "[encoded data removed]",
      "text/plain": [
       "<Figure size 432x288 with 1 Axes>"
      ]
     },
     "metadata": {
      "needs_background": "light"
     },
     "output_type": "display_data"
    }
   ],
   "source": [
    "plt.scatter(df['Low'], df['Market Cap'], color='blue')\n",
    "plt.grid(True)\n",
    "plt.show()"
   ]
  },
  {
   "cell_type": "code",
   "execution_count": 16,
   "metadata": {},
   "outputs": [
    {
     "data": {
      "image/png": "[encoded data removed]",
      "text/plain": [
       "<Figure size 432x288 with 1 Axes>"
      ]
     },
     "metadata": {
      "needs_background": "light"
     },
     "output_type": "display_data"
    }
   ],
   "source": [
    "plt.scatter(df['Close'], df['Market Cap'], color='blue')\n",
    "plt.grid(True)\n",
    "plt.show()"
   ]
  },
  {
   "cell_type": "code",
   "execution_count": 17,
   "metadata": {},
   "outputs": [
    {
     "data": {
      "image/png": "[encoded data removed]",
      "text/plain": [
       "<Figure size 432x288 with 1 Axes>"
      ]
     },
     "metadata": {
      "needs_background": "light"
     },
     "output_type": "display_data"
    }
   ],
   "source": [
    "plt.scatter(df['Volume'], df['Market Cap'], color='pink')\n",
    "plt.grid(True)\n",
    "plt.show()"
   ]
  },
  {
   "cell_type": "code",
   "execution_count": 18,
   "metadata": {},
   "outputs": [],
   "source": [
    "from sklearn import linear_model\n",
    "import statsmodels.api as sm\n"
   ]
  },
  {
   "cell_type": "code",
   "execution_count": null,
   "metadata": {},
   "outputs": [],
   "source": []
  },
  {
   "cell_type": "code",
   "execution_count": 19,
   "metadata": {},
   "outputs": [],
   "source": [
    "X=df.drop([\"Market Cap\"], axis=1)\n",
    "\n",
    "y=df[\"Market Cap\"]"
   ]
  },
  {
   "cell_type": "code",
   "execution_count": 28,
   "metadata": {
    "scrolled": false
   },
   "outputs": [
    {
     "data": {
      "text/plain": [
       "LinearRegression()"
      ]
     },
     "execution_count": 28,
     "metadata": {},
     "output_type": "execute_result"
    }
   ],
   "source": [
    "regr = linear_model.LinearRegression()\n",
    "regr.fit(X, encoded)"
   ]
  },
  {
   "cell_type": "code",
   "execution_count": 29,
   "metadata": {},
   "outputs": [
    {
     "name": "stdout",
     "output_type": "stream",
     "text": [
      "Intercept: \n",
      " 1090.2151359757413\n",
      "Coefficients: \n",
      " [ 1.07409195e-02 -1.92751070e-01  1.91877475e-01  3.07456276e-02\n",
      "  1.91306404e-08]\n"
     ]
    }
   ],
   "source": [
    "print('Intercept: \\n', regr.intercept_)\n",
    "print('Coefficients: \\n', regr.coef_)"
   ]
  },
  {
   "cell_type": "code",
   "execution_count": 30,
   "metadata": {},
   "outputs": [],
   "source": [
    "new_input = [[35555.790140, 39322.780212, 34864.109940, 39097.860897, 4.066911e+10]]"
   ]
  },
  {
   "cell_type": "code",
   "execution_count": 31,
   "metadata": {},
   "outputs": [],
   "source": [
    "new_output = regr.predict(new_input)"
   ]
  },
  {
   "cell_type": "code",
   "execution_count": 32,
   "metadata": {
    "scrolled": true
   },
   "outputs": [
    {
     "data": {
      "text/plain": [
       "array([2562.36082423])"
      ]
     },
     "execution_count": 32,
     "metadata": {},
     "output_type": "execute_result"
    }
   ],
   "source": [
    "new_output"
   ]
  },
  {
   "cell_type": "code",
   "execution_count": 33,
   "metadata": {},
   "outputs": [],
   "source": [
    "X = sm.add_constant(X)"
   ]
  },
  {
   "cell_type": "code",
   "execution_count": 34,
   "metadata": {},
   "outputs": [],
   "source": [
    "model = sm.OLS(encoded, X).fit()\n",
    "predictions = model.predict(X) "
   ]
  },
  {
   "cell_type": "code",
   "execution_count": 35,
   "metadata": {},
   "outputs": [
    {
     "name": "stdout",
     "output_type": "stream",
     "text": [
      "                            OLS Regression Results                            \n",
      "==============================================================================\n",
      "Dep. Variable:                      y   R-squared:                       0.540\n",
      "Model:                            OLS   Adj. R-squared:                  0.540\n",
      "Method:                 Least Squares   F-statistic:                     697.3\n",
      "Date:                Wed, 23 Jun 2021   Prob (F-statistic):               0.00\n",
      "Time:                        10:44:25   Log-Likelihood:                -23118.\n",
      "No. Observations:                2970   AIC:                         4.625e+04\n",
      "Df Residuals:                    2964   BIC:                         4.628e+04\n",
      "Df Model:                           5                                         \n",
      "Covariance Type:            nonrobust                                         \n",
      "==============================================================================\n",
      "                 coef    std err          t      P>|t|      [0.025      0.975]\n",
      "------------------------------------------------------------------------------\n",
      "const       1090.2151     12.597     86.548      0.000    1065.516    1114.914\n",
      "Open           0.0107      0.039      0.277      0.782      -0.065       0.087\n",
      "High          -0.1928      0.051     -3.812      0.000      -0.292      -0.094\n",
      "Low            0.1919      0.036      5.351      0.000       0.122       0.262\n",
      "Close          0.0307      0.046      0.675      0.500      -0.059       0.120\n",
      "Volume      1.913e-08   9.94e-10     19.247      0.000    1.72e-08    2.11e-08\n",
      "==============================================================================\n",
      "Omnibus:                      408.454   Durbin-Watson:                   0.090\n",
      "Prob(Omnibus):                  0.000   Jarque-Bera (JB):             1333.583\n",
      "Skew:                          -0.690   Prob(JB):                    2.61e-290\n",
      "Kurtosis:                       5.978   Cond. No.                     2.55e+10\n",
      "==============================================================================\n",
      "\n",
      "Notes:\n",
      "[1] Standard Errors assume that the covariance matrix of the errors is correctly specified.\n",
      "[2] The condition number is large, 2.55e+10. This might indicate that there are\n",
      "strong multicollinearity or other numerical problems.\n"
     ]
    }
   ],
   "source": [
    "print_model = model.summary()\n",
    "print(print_model)"
   ]
  },
  {
   "cell_type": "code",
   "execution_count": null,
   "metadata": {},
   "outputs": [],
   "source": []
  },
  {
   "cell_type": "code",
   "execution_count": 21,
   "metadata": {},
   "outputs": [],
   "source": [
    "from sklearn import preprocessing\n",
    "from sklearn import utils"
   ]
  },
  {
   "cell_type": "code",
   "execution_count": 22,
   "metadata": {},
   "outputs": [],
   "source": [
    "lab_enc = preprocessing.LabelEncoder()\n",
    "encoded = lab_enc.fit_transform(y)"
   ]
  },
  {
   "cell_type": "code",
   "execution_count": 23,
   "metadata": {},
   "outputs": [
    {
     "name": "stdout",
     "output_type": "stream",
     "text": [
      "continuous\n"
     ]
    }
   ],
   "source": [
    "print(utils.multiclass.type_of_target(y))"
   ]
  },
  {
   "cell_type": "code",
   "execution_count": 24,
   "metadata": {},
   "outputs": [
    {
     "name": "stdout",
     "output_type": "stream",
     "text": [
      "multiclass\n"
     ]
    }
   ],
   "source": [
    "print(utils.multiclass.type_of_target(y.astype('int')))"
   ]
  },
  {
   "cell_type": "code",
   "execution_count": 25,
   "metadata": {},
   "outputs": [
    {
     "name": "stdout",
     "output_type": "stream",
     "text": [
      "multiclass\n"
     ]
    }
   ],
   "source": [
    "print(utils.multiclass.type_of_target(encoded))"
   ]
  },
  {
   "cell_type": "code",
   "execution_count": 26,
   "metadata": {},
   "outputs": [],
   "source": [
    "from sklearn.linear_model import LinearRegression"
   ]
  },
  {
   "cell_type": "code",
   "execution_count": 27,
   "metadata": {},
   "outputs": [],
   "source": [
    "model1 =  LinearRegression()"
   ]
  },
  {
   "cell_type": "code",
   "execution_count": 36,
   "metadata": {},
   "outputs": [],
   "source": [
    "scaler = StandardScaler()\n",
    "\n",
    "X = scaler.fit_transform(X)"
   ]
  },
  {
   "cell_type": "code",
   "execution_count": 37,
   "metadata": {},
   "outputs": [],
   "source": [
    "X_train, X_test, encoded_train, encoded_test = train_test_split(X, encoded, train_size=0.7)"
   ]
  },
  {
   "cell_type": "code",
   "execution_count": 38,
   "metadata": {},
   "outputs": [],
   "source": [
    "result = []\n",
    "model1.fit(X_train, encoded_train)\n",
    "result.append(model1.score(X_test, encoded_test))"
   ]
  },
  {
   "cell_type": "code",
   "execution_count": 39,
   "metadata": {
    "scrolled": false
   },
   "outputs": [
    {
     "data": {
      "text/plain": [
       "[0.5360839547174456]"
      ]
     },
     "execution_count": 39,
     "metadata": {},
     "output_type": "execute_result"
    }
   ],
   "source": [
    "result"
   ]
  },
  {
   "cell_type": "code",
   "execution_count": 42,
   "metadata": {},
   "outputs": [],
   "source": [
    "y_pred = model1.predict(X_test)"
   ]
  },
  {
   "cell_type": "code",
   "execution_count": 43,
   "metadata": {
    "scrolled": false
   },
   "outputs": [
    {
     "data": {
      "text/html": [
       "<div>\n",
       "<style scoped>\n",
       "    .dataframe tbody tr th:only-of-type {\n",
       "        vertical-align: middle;\n",
       "    }\n",
       "\n",
       "    .dataframe tbody tr th {\n",
       "        vertical-align: top;\n",
       "    }\n",
       "\n",
       "    .dataframe thead th {\n",
       "        text-align: right;\n",
       "    }\n",
       "</style>\n",
       "<table border=\"1\" class=\"dataframe\">\n",
       "  <thead>\n",
       "    <tr style=\"text-align: right;\">\n",
       "      <th></th>\n",
       "      <th>Predicted values</th>\n",
       "      <th>Actual values</th>\n",
       "    </tr>\n",
       "  </thead>\n",
       "  <tbody>\n",
       "    <tr>\n",
       "      <th>0</th>\n",
       "      <td>1122.593029</td>\n",
       "      <td>1341</td>\n",
       "    </tr>\n",
       "    <tr>\n",
       "      <th>1</th>\n",
       "      <td>1102.207051</td>\n",
       "      <td>663</td>\n",
       "    </tr>\n",
       "    <tr>\n",
       "      <th>2</th>\n",
       "      <td>1560.785510</td>\n",
       "      <td>2552</td>\n",
       "    </tr>\n",
       "    <tr>\n",
       "      <th>3</th>\n",
       "      <td>1549.315466</td>\n",
       "      <td>2165</td>\n",
       "    </tr>\n",
       "    <tr>\n",
       "      <th>4</th>\n",
       "      <td>1089.846509</td>\n",
       "      <td>105</td>\n",
       "    </tr>\n",
       "    <tr>\n",
       "      <th>...</th>\n",
       "      <td>...</td>\n",
       "      <td>...</td>\n",
       "    </tr>\n",
       "    <tr>\n",
       "      <th>886</th>\n",
       "      <td>1092.279675</td>\n",
       "      <td>564</td>\n",
       "    </tr>\n",
       "    <tr>\n",
       "      <th>887</th>\n",
       "      <td>1099.097454</td>\n",
       "      <td>657</td>\n",
       "    </tr>\n",
       "    <tr>\n",
       "      <th>888</th>\n",
       "      <td>1681.683401</td>\n",
       "      <td>2358</td>\n",
       "    </tr>\n",
       "    <tr>\n",
       "      <th>889</th>\n",
       "      <td>1419.471415</td>\n",
       "      <td>1857</td>\n",
       "    </tr>\n",
       "    <tr>\n",
       "      <th>890</th>\n",
       "      <td>1117.084001</td>\n",
       "      <td>1271</td>\n",
       "    </tr>\n",
       "  </tbody>\n",
       "</table>\n",
       "<p>891 rows × 2 columns</p>\n",
       "</div>"
      ],
      "text/plain": [
       "     Predicted values  Actual values\n",
       "0         1122.593029           1341\n",
       "1         1102.207051            663\n",
       "2         1560.785510           2552\n",
       "3         1549.315466           2165\n",
       "4         1089.846509            105\n",
       "..                ...            ...\n",
       "886       1092.279675            564\n",
       "887       1099.097454            657\n",
       "888       1681.683401           2358\n",
       "889       1419.471415           1857\n",
       "890       1117.084001           1271\n",
       "\n",
       "[891 rows x 2 columns]"
      ]
     },
     "execution_count": 43,
     "metadata": {},
     "output_type": "execute_result"
    }
   ],
   "source": [
    "df1=pd.DataFrame({'Predicted values':y_pred,'Actual values':encoded_test})\n",
    "df1"
   ]
  },
  {
   "cell_type": "code",
   "execution_count": null,
   "metadata": {},
   "outputs": [],
   "source": [
    "import pickle"
   ]
  },
  {
   "cell_type": "code",
   "execution_count": null,
   "metadata": {},
   "outputs": [],
   "source": [
    "pkl_file= open('bitcoin.pkl',\"wb\")"
   ]
  },
  {
   "cell_type": "code",
   "execution_count": null,
   "metadata": {},
   "outputs": [],
   "source": [
    "pickle.dump(model1,pkl_file)"
   ]
  },
  {
   "cell_type": "code",
   "execution_count": null,
   "metadata": {},
   "outputs": [],
   "source": [
    "pkl_file.close()"
   ]
  }
 ],
 "metadata": {
  "kernelspec": {
   "display_name": "Python 3",
   "language": "python",
   "name": "python3"
  },
  "language_info": {
   "codemirror_mode": {
    "name": "ipython",
    "version": 3
   },
   "file_extension": ".py",
   "mimetype": "text/x-python",
   "name": "python",
   "nbconvert_exporter": "python",
   "pygments_lexer": "ipython3",
   "version": "3.8.5"
  }
 },
 "nbformat": 4,
 "nbformat_minor": 4
}
